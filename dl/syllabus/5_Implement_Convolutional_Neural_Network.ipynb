{
  "nbformat": 4,
  "nbformat_minor": 0,
  "metadata": {
    "colab": {
      "provenance": []
    },
    "kernelspec": {
      "name": "python3",
      "display_name": "Python 3"
    },
    "language_info": {
      "name": "python"
    }
  },
  "cells": [
    {
      "cell_type": "code",
      "source": [
        "import tensorflow as tf\n",
        "from tensorflow import keras\n",
        "from keras.datasets import mnist\n",
        "import matplotlib.pyplot as plt\n",
        "\n",
        "# Load the MNIST dataset\n",
        "(x_train, y_train), (x_test, y_test) = mnist.load_data()\n",
        "\n",
        "# Normalize pixel values to be between 0 and 1\n",
        "x_train = x_train.astype('float32') / 255.0\n",
        "x_test = x_test.astype('float32') / 255.0\n",
        "\n",
        "# Add a channel dimension to the images\n",
        "x_train = x_train.reshape(x_train.shape[0], 28, 28, 1)\n",
        "x_test = x_test.reshape(x_test.shape[0], 28, 28, 1)\n",
        "\n",
        "# Define the CNN model architecture\n",
        "model = keras.Sequential([\n",
        "    keras.layers.Conv2D(32, (3, 3), activation='relu', input_shape=(28, 28, 1)),\n",
        "    keras.layers.MaxPooling2D((2, 2)),\n",
        "    keras.layers.Conv2D(64, (3, 3), activation='relu'),\n",
        "    keras.layers.MaxPooling2D((2, 2)),\n",
        "    keras.layers.Conv2D(64, (3, 3), activation='relu'),\n",
        "    keras.layers.Flatten(),\n",
        "    keras.layers.Dense(64, activation='relu'),\n",
        "    keras.layers.Dense(10, activation='softmax')\n",
        "])\n",
        "\n",
        "# Compile the model with categorical cross-entropy loss and Adam optimizer\n",
        "model.compile(optimizer='adam',\n",
        "              loss='sparse_categorical_crossentropy',\n",
        "              metrics=['accuracy'])\n",
        "\n",
        "# Train the model on the training set\n",
        "history = model.fit(x_train, y_train, epochs=10, batch_size=64, validation_data=(x_test, y_test))\n",
        "\n",
        "# Plot the training and validation accuracy curves over the epochs\n",
        "plt.plot(history.history['accuracy'], label='Training accuracy')\n",
        "plt.plot(history.history['val_accuracy'], label='Validation accuracy')\n",
        "plt.xlabel('Epoch')\n",
        "plt.ylabel('Accuracy')\n",
        "plt.legend()\n",
        "plt.show()\n"
      ],
      "metadata": {
        "colab": {
          "base_uri": "https://localhost:8080/",
          "height": 664
        },
        "id": "pj-pKOhbt6o-",
        "outputId": "32643ce7-11d2-4ea8-ce5f-f3b85ac077d0"
      },
      "execution_count": 9,
      "outputs": [
        {
          "output_type": "stream",
          "name": "stdout",
          "text": [
            "Epoch 1/10\n",
            "938/938 [==============================] - 74s 77ms/step - loss: 0.1744 - accuracy: 0.9464 - val_loss: 0.0420 - val_accuracy: 0.9850\n",
            "Epoch 2/10\n",
            "938/938 [==============================] - 69s 73ms/step - loss: 0.0501 - accuracy: 0.9841 - val_loss: 0.0320 - val_accuracy: 0.9900\n",
            "Epoch 3/10\n",
            "938/938 [==============================] - 66s 70ms/step - loss: 0.0347 - accuracy: 0.9894 - val_loss: 0.0371 - val_accuracy: 0.9880\n",
            "Epoch 4/10\n",
            "938/938 [==============================] - 66s 70ms/step - loss: 0.0276 - accuracy: 0.9912 - val_loss: 0.0307 - val_accuracy: 0.9895\n",
            "Epoch 5/10\n",
            "938/938 [==============================] - 66s 70ms/step - loss: 0.0216 - accuracy: 0.9930 - val_loss: 0.0323 - val_accuracy: 0.9891\n",
            "Epoch 6/10\n",
            "938/938 [==============================] - 65s 70ms/step - loss: 0.0172 - accuracy: 0.9943 - val_loss: 0.0294 - val_accuracy: 0.9915\n",
            "Epoch 7/10\n",
            "938/938 [==============================] - 66s 71ms/step - loss: 0.0150 - accuracy: 0.9948 - val_loss: 0.0303 - val_accuracy: 0.9910\n",
            "Epoch 8/10\n",
            "938/938 [==============================] - 66s 70ms/step - loss: 0.0117 - accuracy: 0.9962 - val_loss: 0.0346 - val_accuracy: 0.9900\n",
            "Epoch 9/10\n",
            "938/938 [==============================] - 65s 70ms/step - loss: 0.0107 - accuracy: 0.9966 - val_loss: 0.0340 - val_accuracy: 0.9909\n",
            "Epoch 10/10\n",
            "938/938 [==============================] - 65s 69ms/step - loss: 0.0101 - accuracy: 0.9967 - val_loss: 0.0368 - val_accuracy: 0.9898\n"
          ]
        },
        {
          "output_type": "display_data",
          "data": {
            "text/plain": [
              "<Figure size 432x288 with 1 Axes>"
            ],
            "image/png": "[encoded data removed]"
          },
          "metadata": {
            "needs_background": "light"
          }
        }
      ]
    }
  ]
}