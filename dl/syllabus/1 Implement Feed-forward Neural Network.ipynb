{
 "cells": [
  {
   "cell_type": "code",
   "execution_count": 1,
   "metadata": {
    "colab": {
     "base_uri": "https://localhost:8080/",
     "height": 989
    },
    "id": "I9T9w-ICwgB0",
    "outputId": "c03a1e39-3dea-4d2a-d75f-aa41f2a55c94"
   },
   "outputs": [
    {
     "name": "stdout",
     "output_type": "stream",
     "text": [
      "Epoch 1/10\n",
      "750/750 [==============================] - 5s 4ms/step - loss: 0.9630 - accuracy: 0.7646 - val_loss: 0.4231 - val_accuracy: 0.8929\n",
      "Epoch 2/10\n",
      "750/750 [==============================] - 2s 3ms/step - loss: 0.3886 - accuracy: 0.8939 - val_loss: 0.3210 - val_accuracy: 0.9100\n",
      "Epoch 3/10\n",
      "750/750 [==============================] - 2s 3ms/step - loss: 0.3195 - accuracy: 0.9100 - val_loss: 0.2801 - val_accuracy: 0.9218\n",
      "Epoch 4/10\n",
      "750/750 [==============================] - 2s 3ms/step - loss: 0.2838 - accuracy: 0.9198 - val_loss: 0.2566 - val_accuracy: 0.9281\n",
      "Epoch 5/10\n",
      "750/750 [==============================] - 3s 4ms/step - loss: 0.2589 - accuracy: 0.9262 - val_loss: 0.2378 - val_accuracy: 0.9344\n",
      "Epoch 6/10\n",
      "750/750 [==============================] - 2s 3ms/step - loss: 0.2387 - accuracy: 0.9315 - val_loss: 0.2209 - val_accuracy: 0.9388\n",
      "Epoch 7/10\n",
      "750/750 [==============================] - 3s 4ms/step - loss: 0.2220 - accuracy: 0.9379 - val_loss: 0.2081 - val_accuracy: 0.9420\n",
      "Epoch 8/10\n",
      "750/750 [==============================] - 3s 4ms/step - loss: 0.2074 - accuracy: 0.9418 - val_loss: 0.1975 - val_accuracy: 0.9452\n",
      "Epoch 9/10\n",
      "750/750 [==============================] - 3s 3ms/step - loss: 0.1949 - accuracy: 0.9445 - val_loss: 0.1874 - val_accuracy: 0.9472\n",
      "Epoch 10/10\n",
      "750/750 [==============================] - 3s 4ms/step - loss: 0.1838 - accuracy: 0.9480 - val_loss: 0.1801 - val_accuracy: 0.9481\n",
      "Epoch 1/10\n",
      "750/750 [==============================] - 5s 5ms/step - loss: 0.2825 - accuracy: 0.9246 - val_loss: 0.1537 - val_accuracy: 0.9567\n",
      "Epoch 2/10\n",
      "750/750 [==============================] - 3s 4ms/step - loss: 0.1513 - accuracy: 0.9556 - val_loss: 0.1467 - val_accuracy: 0.9580\n",
      "Epoch 3/10\n",
      "750/750 [==============================] - 3s 5ms/step - loss: 0.1351 - accuracy: 0.9610 - val_loss: 0.1693 - val_accuracy: 0.9554\n",
      "Epoch 4/10\n",
      "750/750 [==============================] - 3s 5ms/step - loss: 0.1298 - accuracy: 0.9634 - val_loss: 0.1719 - val_accuracy: 0.9573\n",
      "Epoch 5/10\n",
      "750/750 [==============================] - 5s 6ms/step - loss: 0.1140 - accuracy: 0.9688 - val_loss: 0.1516 - val_accuracy: 0.9634\n",
      "Epoch 6/10\n",
      "750/750 [==============================] - 4s 6ms/step - loss: 0.1079 - accuracy: 0.9712 - val_loss: 0.1991 - val_accuracy: 0.9598\n",
      "Epoch 7/10\n",
      "750/750 [==============================] - 4s 5ms/step - loss: 0.0995 - accuracy: 0.9729 - val_loss: 0.1752 - val_accuracy: 0.9615\n",
      "Epoch 8/10\n",
      "750/750 [==============================] - 4s 5ms/step - loss: 0.0916 - accuracy: 0.9761 - val_loss: 0.1725 - val_accuracy: 0.9649\n",
      "Epoch 9/10\n",
      "750/750 [==============================] - 3s 5ms/step - loss: 0.0921 - accuracy: 0.9760 - val_loss: 0.1766 - val_accuracy: 0.9641\n",
      "Epoch 10/10\n",
      "750/750 [==============================] - 4s 5ms/step - loss: 0.0899 - accuracy: 0.9777 - val_loss: 0.1680 - val_accuracy: 0.9608\n"
     ]
    },
    {
     "data": {
      "image/png": "[encoded data removed]",
      "text/plain": [
       "<Figure size 432x288 with 1 Axes>"
      ]
     },
     "metadata": {
      "needs_background": "light"
     },
     "output_type": "display_data"
    }
   ],
   "source": [
    "import tensorflow as tf\n",
    "from tensorflow import keras\n",
    "from tensorflow.keras import layers\n",
    "import matplotlib.pyplot as plt\n",
    "\n",
    "# Load the MNIST dataset\n",
    "(x_train, y_train), (x_test, y_test) = keras.datasets.mnist.load_data()\n",
    "\n",
    "# Preprocess the data\n",
    "x_train = x_train.reshape((60000, 784))\n",
    "x_test = x_test.reshape((10000, 784))\n",
    "x_train = x_train.astype(\"float32\") / 255.0\n",
    "x_test = x_test.astype(\"float32\") / 255.0\n",
    "y_train = keras.utils.to_categorical(y_train, 10)\n",
    "y_test = keras.utils.to_categorical(y_test, 10)\n",
    "\n",
    "# Define the model\n",
    "model = keras.Sequential(\n",
    "    [\n",
    "        keras.Input(shape=(784)),\n",
    "        layers.Dense(256, activation=\"relu\"),\n",
    "        layers.Dense(128, activation=\"relu\"),\n",
    "        layers.Dense(10, activation=\"softmax\"),\n",
    "    ]\n",
    ")\n",
    "\n",
    "# Compile the model with different optimizers\n",
    "sgd = tf.keras.optimizers.SGD(learning_rate=0.01)\n",
    "adam = tf.keras.optimizers.Adam(learning_rate=0.01)\n",
    "\n",
    "model.compile(optimizer=sgd, loss=\"categorical_crossentropy\", metrics=[\"accuracy\"])\n",
    "history_sgd = model.fit(x_train, y_train, batch_size=64, epochs=10, validation_split=0.2)\n",
    "\n",
    "model.compile(optimizer=adam, loss=\"categorical_crossentropy\", metrics=[\"accuracy\"])\n",
    "history_adam = model.fit(x_train, y_train, batch_size=64, epochs=10, validation_split=0.2)\n",
    "\n",
    "# Plot the training and validation accuracy for both optimizers\n",
    "plt.plot(history_sgd.history[\"accuracy\"])\n",
    "plt.plot(history_sgd.history[\"val_accuracy\"])\n",
    "plt.plot(history_adam.history[\"accuracy\"])\n",
    "plt.plot(history_adam.history[\"val_accuracy\"])\n",
    "plt.title(\"Model Accuracy\")\n",
    "plt.ylabel(\"Accuracy\")\n",
    "plt.xlabel(\"Epoch\")\n",
    "plt.legend([\"Train SGD\", \"Val SGD\", \"Train Adam\", \"Val Adam\"], loc=\"upper left\")\n",
    "plt.show()\n"
   ]
  },
  {
   "cell_type": "code",
   "execution_count": null,
   "metadata": {},
   "outputs": [],
   "source": []
  }
 ],
 "metadata": {
  "colab": {
   "name": "Welcome To Colaboratory",
   "provenance": []
  },
  "kernelspec": {
   "display_name": "Python 3 (ipykernel)",
   "language": "python",
   "name": "python3"
  },
  "language_info": {
   "codemirror_mode": {
    "name": "ipython",
    "version": 3
   },
   "file_extension": ".py",
   "mimetype": "text/x-python",
   "name": "python",
   "nbconvert_exporter": "python",
   "pygments_lexer": "ipython3",
   "version": "3.9.10"
  }
 },
 "nbformat": 4,
 "nbformat_minor": 1
}
