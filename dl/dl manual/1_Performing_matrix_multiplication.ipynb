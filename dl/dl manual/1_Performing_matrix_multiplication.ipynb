{
  "nbformat": 4,
  "nbformat_minor": 0,
  "metadata": {
    "colab": {
      "provenance": []
    },
    "kernelspec": {
      "name": "python3",
      "display_name": "Python 3"
    },
    "language_info": {
      "name": "python"
    }
  },
  "cells": [
    {
      "cell_type": "code",
      "execution_count": 1,
      "metadata": {
        "colab": {
          "base_uri": "https://localhost:8080/"
        },
        "id": "2DuLBR2bZWTu",
        "outputId": "b3fff001-07eb-404b-8497-8d20aec01706"
      },
      "outputs": [
        {
          "output_type": "stream",
          "name": "stdout",
          "text": [
            "Matrix Multiplication Demo\n",
            "tf.Tensor(\n",
            "[[1 2 3]\n",
            " [4 5 6]], shape=(2, 3), dtype=int32)\n",
            "tf.Tensor(\n",
            "[[ 7  8]\n",
            " [ 9 10]\n",
            " [11 12]], shape=(3, 2), dtype=int32)\n",
            "Product: tf.Tensor(\n",
            "[[ 58  64]\n",
            " [139 154]], shape=(2, 2), dtype=int32)\n",
            "Matrix A:\n",
            "[[9.612934  4.8154263]\n",
            " [4.0706477 6.785891 ]]\n",
            "\n",
            "\n",
            "Eigen Vectors:\n",
            "[[-0.57964087  0.814872  ]\n",
            " [ 0.814872    0.57964087]]\n",
            "\n",
            "Eigen Values:\n",
            "[ 3.8903272 12.508497 ]\n",
            "\n"
          ]
        }
      ],
      "source": [
        "import tensorflow as tf\n",
        "print(\"Matrix Multiplication Demo\")\n",
        "x=tf.constant([1,2,3,4,5,6],shape=[2,3])\n",
        "print(x)\n",
        "y=tf.constant([7,8,9,10,11,12],shape=[3,2])\n",
        "print(y)\n",
        "z=tf.matmul(x,y)\n",
        "print(\"Product:\",z)\n",
        "e_matrix_A=tf.random.uniform([2,2],minval=3,maxval=10,dtype=tf.float32,name=\"matrixA\")\n",
        "print(\"Matrix A:\\n{}\\n\\n\".format(e_matrix_A))\n",
        "eigen_values_A,eigen_vectors_A=tf.linalg.eigh(e_matrix_A)\n",
        "print(\"Eigen Vectors:\\n{}\\n\\nEigen Values:\\n{}\\n\".format(eigen_vectors_A,eigen_values_A))\n"
      ]
    }
  ]
}