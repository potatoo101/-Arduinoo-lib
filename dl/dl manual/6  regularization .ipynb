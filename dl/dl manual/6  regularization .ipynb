{
 "cells": [
  {
   "cell_type": "code",
   "execution_count": 1,
   "id": "24ccb0db",
   "metadata": {},
   "outputs": [],
   "source": [
    "# implementing regularization to avoid overfitting in binary classification. \n"
   ]
  },
  {
   "cell_type": "code",
   "execution_count": 2,
   "id": "f5512fa6",
   "metadata": {},
   "outputs": [
    {
     "name": "stdout",
     "output_type": "stream",
     "text": [
      "Epoch 1/40\n",
      "1/1 [==============================] - 1s 884ms/step - loss: 0.6518 - accuracy: 0.8000 - val_loss: 0.6598 - val_accuracy: 0.6429\n",
      "Epoch 2/40\n",
      "1/1 [==============================] - 0s 59ms/step - loss: 0.6368 - accuracy: 0.8667 - val_loss: 0.6504 - val_accuracy: 0.6857\n",
      "Epoch 3/40\n",
      "1/1 [==============================] - 0s 40ms/step - loss: 0.6223 - accuracy: 0.8333 - val_loss: 0.6414 - val_accuracy: 0.6857\n",
      "Epoch 4/40\n",
      "1/1 [==============================] - 0s 62ms/step - loss: 0.6081 - accuracy: 0.8333 - val_loss: 0.6327 - val_accuracy: 0.6857\n",
      "Epoch 5/40\n",
      "1/1 [==============================] - 0s 40ms/step - loss: 0.5944 - accuracy: 0.8333 - val_loss: 0.6243 - val_accuracy: 0.6857\n",
      "Epoch 6/40\n",
      "1/1 [==============================] - 0s 40ms/step - loss: 0.5810 - accuracy: 0.8333 - val_loss: 0.6162 - val_accuracy: 0.6857\n",
      "Epoch 7/40\n",
      "1/1 [==============================] - 0s 57ms/step - loss: 0.5680 - accuracy: 0.8333 - val_loss: 0.6084 - val_accuracy: 0.6857\n",
      "Epoch 8/40\n",
      "1/1 [==============================] - 0s 53ms/step - loss: 0.5554 - accuracy: 0.8667 - val_loss: 0.6009 - val_accuracy: 0.6857\n",
      "Epoch 9/40\n",
      "1/1 [==============================] - 0s 49ms/step - loss: 0.5431 - accuracy: 0.8667 - val_loss: 0.5936 - val_accuracy: 0.7000\n",
      "Epoch 10/40\n",
      "1/1 [==============================] - 0s 54ms/step - loss: 0.5311 - accuracy: 0.8667 - val_loss: 0.5867 - val_accuracy: 0.7143\n",
      "Epoch 11/40\n",
      "1/1 [==============================] - 0s 40ms/step - loss: 0.5195 - accuracy: 0.8667 - val_loss: 0.5800 - val_accuracy: 0.7143\n",
      "Epoch 12/40\n",
      "1/1 [==============================] - 0s 62ms/step - loss: 0.5082 - accuracy: 0.8667 - val_loss: 0.5736 - val_accuracy: 0.7143\n",
      "Epoch 13/40\n",
      "1/1 [==============================] - 0s 47ms/step - loss: 0.4972 - accuracy: 0.8667 - val_loss: 0.5674 - val_accuracy: 0.7143\n",
      "Epoch 14/40\n",
      "1/1 [==============================] - 0s 39ms/step - loss: 0.4865 - accuracy: 0.8667 - val_loss: 0.5615 - val_accuracy: 0.7143\n",
      "Epoch 15/40\n",
      "1/1 [==============================] - 0s 43ms/step - loss: 0.4760 - accuracy: 0.8667 - val_loss: 0.5558 - val_accuracy: 0.7143\n",
      "Epoch 16/40\n",
      "1/1 [==============================] - 0s 59ms/step - loss: 0.4659 - accuracy: 0.8667 - val_loss: 0.5503 - val_accuracy: 0.7143\n",
      "Epoch 17/40\n",
      "1/1 [==============================] - 0s 46ms/step - loss: 0.4560 - accuracy: 0.8667 - val_loss: 0.5450 - val_accuracy: 0.7143\n",
      "Epoch 18/40\n",
      "1/1 [==============================] - 0s 41ms/step - loss: 0.4464 - accuracy: 0.8667 - val_loss: 0.5400 - val_accuracy: 0.7143\n",
      "Epoch 19/40\n",
      "1/1 [==============================] - 0s 41ms/step - loss: 0.4371 - accuracy: 0.8667 - val_loss: 0.5352 - val_accuracy: 0.7143\n",
      "Epoch 20/40\n",
      "1/1 [==============================] - 0s 57ms/step - loss: 0.4280 - accuracy: 0.8667 - val_loss: 0.5306 - val_accuracy: 0.7143\n",
      "Epoch 21/40\n",
      "1/1 [==============================] - 0s 49ms/step - loss: 0.4192 - accuracy: 0.8667 - val_loss: 0.5261 - val_accuracy: 0.7143\n",
      "Epoch 22/40\n",
      "1/1 [==============================] - 0s 43ms/step - loss: 0.4106 - accuracy: 0.8667 - val_loss: 0.5219 - val_accuracy: 0.7143\n",
      "Epoch 23/40\n",
      "1/1 [==============================] - 0s 60ms/step - loss: 0.4023 - accuracy: 0.8667 - val_loss: 0.5179 - val_accuracy: 0.7143\n",
      "Epoch 24/40\n",
      "1/1 [==============================] - 0s 59ms/step - loss: 0.3943 - accuracy: 0.8667 - val_loss: 0.5141 - val_accuracy: 0.7143\n",
      "Epoch 25/40\n",
      "1/1 [==============================] - 0s 40ms/step - loss: 0.3865 - accuracy: 0.8667 - val_loss: 0.5105 - val_accuracy: 0.7143\n",
      "Epoch 26/40\n",
      "1/1 [==============================] - 0s 56ms/step - loss: 0.3790 - accuracy: 0.8667 - val_loss: 0.5071 - val_accuracy: 0.7143\n",
      "Epoch 27/40\n",
      "1/1 [==============================] - 0s 44ms/step - loss: 0.3717 - accuracy: 0.8667 - val_loss: 0.5038 - val_accuracy: 0.7143\n",
      "Epoch 28/40\n",
      "1/1 [==============================] - 0s 42ms/step - loss: 0.3646 - accuracy: 0.8667 - val_loss: 0.5007 - val_accuracy: 0.7143\n",
      "Epoch 29/40\n",
      "1/1 [==============================] - 0s 67ms/step - loss: 0.3577 - accuracy: 0.8667 - val_loss: 0.4978 - val_accuracy: 0.7143\n",
      "Epoch 30/40\n",
      "1/1 [==============================] - 0s 53ms/step - loss: 0.3511 - accuracy: 0.9000 - val_loss: 0.4950 - val_accuracy: 0.7143\n",
      "Epoch 31/40\n",
      "1/1 [==============================] - 0s 40ms/step - loss: 0.3447 - accuracy: 0.9000 - val_loss: 0.4924 - val_accuracy: 0.7286\n",
      "Epoch 32/40\n",
      "1/1 [==============================] - 0s 56ms/step - loss: 0.3385 - accuracy: 0.9000 - val_loss: 0.4899 - val_accuracy: 0.7286\n",
      "Epoch 33/40\n",
      "1/1 [==============================] - 0s 43ms/step - loss: 0.3325 - accuracy: 0.9000 - val_loss: 0.4876 - val_accuracy: 0.7286\n",
      "Epoch 34/40\n",
      "1/1 [==============================] - 0s 46ms/step - loss: 0.3267 - accuracy: 0.9000 - val_loss: 0.4854 - val_accuracy: 0.7286\n",
      "Epoch 35/40\n",
      "1/1 [==============================] - 0s 54ms/step - loss: 0.3211 - accuracy: 0.9000 - val_loss: 0.4834 - val_accuracy: 0.7286\n",
      "Epoch 36/40\n",
      "1/1 [==============================] - 0s 70ms/step - loss: 0.3157 - accuracy: 0.9000 - val_loss: 0.4815 - val_accuracy: 0.7286\n",
      "Epoch 37/40\n",
      "1/1 [==============================] - 0s 54ms/step - loss: 0.3106 - accuracy: 0.9000 - val_loss: 0.4796 - val_accuracy: 0.7286\n",
      "Epoch 38/40\n",
      "1/1 [==============================] - 0s 62ms/step - loss: 0.3056 - accuracy: 0.9000 - val_loss: 0.4779 - val_accuracy: 0.7286\n",
      "Epoch 39/40\n",
      "1/1 [==============================] - 0s 54ms/step - loss: 0.3008 - accuracy: 0.9000 - val_loss: 0.4764 - val_accuracy: 0.7286\n",
      "Epoch 40/40\n",
      "1/1 [==============================] - 0s 45ms/step - loss: 0.2962 - accuracy: 0.9000 - val_loss: 0.4749 - val_accuracy: 0.7286\n"
     ]
    },
    {
     "data": {
      "image/png": "[encoded data removed]",
      "text/plain": [
       "<Figure size 640x480 with 1 Axes>"
      ]
     },
     "metadata": {},
     "output_type": "display_data"
    }
   ],
   "source": [
    "from matplotlib import pyplot\n",
    "from sklearn.datasets import make_moons\n",
    "from keras.models import Sequential\n",
    "from keras.layers import Dense\n",
    "X,Y=make_moons(n_samples=100,noise=0.2,random_state=1)\n",
    "n_train=30\n",
    "trainX,testX=X[:n_train,:],X[n_train:]\n",
    "trainY,testY=Y[:n_train],Y[n_train:]\n",
    "#print(trainX)\n",
    "#print(trainY)\n",
    "#print(testX)\n",
    "#print(testY)\n",
    "model=Sequential()\n",
    "model.add(Dense(500,input_dim=2,activation='relu'))\n",
    "model.add(Dense(1,activation='sigmoid'))\n",
    "model.compile(loss='binary_crossentropy',optimizer='adam',metrics=['accuracy'])\n",
    "history=model.fit(trainX,trainY,validation_data=(testX,testY),epochs=40)\n",
    "pyplot.plot(history.history['accuracy'],label='train')\n",
    "pyplot.plot(history.history['val_accuracy'],label='test')\n",
    "pyplot.legend()\n",
    "pyplot.show()\n"
   ]
  },
  {
   "cell_type": "code",
   "execution_count": null,
   "id": "a3913b34",
   "metadata": {},
   "outputs": [],
   "source": []
  }
 ],
 "metadata": {
  "kernelspec": {
   "display_name": "Python 3 (ipykernel)",
   "language": "python",
   "name": "python3"
  },
  "language_info": {
   "codemirror_mode": {
    "name": "ipython",
    "version": 3
   },
   "file_extension": ".py",
   "mimetype": "text/x-python",
   "name": "python",
   "nbconvert_exporter": "python",
   "pygments_lexer": "ipython3",
   "version": "3.10.9"
  }
 },
 "nbformat": 4,
 "nbformat_minor": 5
}
